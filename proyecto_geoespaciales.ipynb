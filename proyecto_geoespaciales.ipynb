{
  "cells": [
    {
      "cell_type": "markdown",
      "metadata": {
        "colab_type": "text",
        "id": "view-in-github"
      },
      "source": [
        "<a href=\"https://colab.research.google.com/github/Burbina200/Proyecto-IMT2118/blob/main/proyecto_geoespaciales.ipynb\" target=\"_parent\"><img src=\"https://colab.research.google.com/assets/colab-badge.svg\" alt=\"Open In Colab\"/></a>"
      ]
    },
    {
      "cell_type": "markdown",
      "metadata": {
        "id": "RCnGz9xZOvN-"
      },
      "source": [
        "# Proyecto Geo Espaciales"
      ]
    },
    {
      "cell_type": "markdown",
      "metadata": {
        "id": "nMqypIvTR3sQ"
      },
      "source": [
        "## Integrantes:\n",
        "- Camila Basulto\n",
        "- Benjamín Urbina"
      ]
    },
    {
      "cell_type": "markdown",
      "metadata": {
        "id": "0gJ7v01LQ3lf"
      },
      "source": [
        "## Tema:\n",
        "- Análisis de cobertura de servicios existentes\n",
        "- Identificación de zonas aptas para construir\n",
        "\n",
        "Haremos un mapa con zonas aptas para urbanizar, con recomendaciones específicas sobre qué tipo de infraestructura construir en cada una.\n"
      ]
    },
    {
      "cell_type": "code",
      "execution_count": null,
      "metadata": {
        "id": "NwuQcGWAQ1qK"
      },
      "outputs": [],
      "source": []
    },
    {
      "cell_type": "markdown",
      "metadata": {
        "id": "eunPawiuWHI6"
      },
      "source": [
        "# Fuentes\n",
        "- Geolocalización de cuerpos de bomberos de chile https://datos.gob.cl/dataset/categoria-geoespacial-instalaciones-y-edificaciones/resource/942164c9-6538-478b-b73c-2672691b36c9\n",
        "\n",
        "- Establecimientos de educación escolar https://www.geoportal.cl/geoportal/catalog/35408/Establecimientos%20Educaci%C3%B3n%20Escolar"
      ]
    }
  ],
  "metadata": {
    "colab": {
      "include_colab_link": true,
      "provenance": []
    },
    "kernelspec": {
      "display_name": "Python 3",
      "name": "python3"
    },
    "language_info": {
      "name": "python"
    }
  },
  "nbformat": 4,
  "nbformat_minor": 0
}
