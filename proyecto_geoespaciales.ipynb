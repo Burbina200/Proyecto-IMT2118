{
  "nbformat": 4,
  "nbformat_minor": 0,
  "metadata": {
    "colab": {
      "provenance": [],
      "authorship_tag": "ABX9TyNqR0rBA0bq3DCqk2H6J3w9",
      "include_colab_link": true
    },
    "kernelspec": {
      "name": "python3",
      "display_name": "Python 3"
    },
    "language_info": {
      "name": "python"
    }
  },
  "cells": [
    {
      "cell_type": "markdown",
      "metadata": {
        "id": "view-in-github",
        "colab_type": "text"
      },
      "source": [
        "<a href=\"https://colab.research.google.com/github/Burbina200/Proyecto-IMT2118/blob/main/proyecto_geoespaciales.ipynb\" target=\"_parent\"><img src=\"https://colab.research.google.com/assets/colab-badge.svg\" alt=\"Open In Colab\"/></a>"
      ]
    },
    {
      "cell_type": "markdown",
      "source": [
        "# Proyecto Geo Espaciales"
      ],
      "metadata": {
        "id": "RCnGz9xZOvN-"
      }
    },
    {
      "cell_type": "markdown",
      "source": [
        "## Tema:"
      ],
      "metadata": {
        "id": "0gJ7v01LQ3lf"
      }
    },
    {
      "cell_type": "code",
      "source": [],
      "metadata": {
        "id": "Xf0YiXp4OzF7"
      },
      "execution_count": 1,
      "outputs": []
    },
    {
      "cell_type": "code",
      "source": [],
      "metadata": {
        "id": "NwuQcGWAQ1qK"
      },
      "execution_count": null,
      "outputs": []
    }
  ]
}