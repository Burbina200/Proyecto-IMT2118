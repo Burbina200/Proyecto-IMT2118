{
  "nbformat": 4,
  "nbformat_minor": 0,
  "metadata": {
    "colab": {
      "provenance": [],
      "include_colab_link": true
    },
    "kernelspec": {
      "name": "python3",
      "display_name": "Python 3"
    },
    "language_info": {
      "name": "python"
    }
  },
  "cells": [
    {
      "cell_type": "markdown",
      "metadata": {
        "id": "view-in-github",
        "colab_type": "text"
      },
      "source": [
        "<a href=\"https://colab.research.google.com/github/Burbina200/Proyecto-IMT2118/blob/main/proyecto_geoespaciales.ipynb\" target=\"_parent\"><img src=\"https://colab.research.google.com/assets/colab-badge.svg\" alt=\"Open In Colab\"/></a>"
      ]
    },
    {
      "cell_type": "markdown",
      "source": [
        "# Proyecto Geo Espaciales"
      ],
      "metadata": {
        "id": "RCnGz9xZOvN-"
      }
    },
    {
      "cell_type": "markdown",
      "source": [
        "## Integrantes:\n",
        "- Camila Basulto\n",
        "- Benjamín Urbina"
      ],
      "metadata": {
        "id": "nMqypIvTR3sQ"
      }
    },
    {
      "cell_type": "markdown",
      "source": [
        "## Tema:\n",
        "- Análisis de cobertura de servicios existentes\n",
        "- Identificación de zonas aptas para construir\n",
        "\n",
        "Haremos un mapa con zonas aptas para urbanizar, con recomendaciones específicas sobre qué tipo de infraestructura construir en cada una.\n"
      ],
      "metadata": {
        "id": "0gJ7v01LQ3lf"
      }
    },
    {
      "cell_type": "code",
      "source": [],
      "metadata": {
        "id": "NwuQcGWAQ1qK"
      },
      "execution_count": null,
      "outputs": []
    },
    {
      "cell_type": "markdown",
      "source": [
        "# Fuentes\n",
        "- Geolocalización de cuerpos de bomberos de chile https://datos.gob.cl/dataset/categoria-geoespacial-instalaciones-y-edificaciones/resource/942164c9-6538-478b-b73c-2672691b36c9\n",
        "\n",
        "- Establecimientos de educación escolar https://www.geoportal.cl/geoportal/catalog/35408/Establecimientos%20Educaci%C3%B3n%20Escolar"
      ],
      "metadata": {
        "id": "eunPawiuWHI6"
      }
    }
  ]
}