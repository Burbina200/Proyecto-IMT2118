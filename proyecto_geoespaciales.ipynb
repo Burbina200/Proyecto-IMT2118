{
  "nbformat": 4,
  "nbformat_minor": 0,
  "metadata": {
    "colab": {
      "provenance": [],
      "authorship_tag": "ABX9TyOHwIGy857P0U8loHnUHDoF",
      "include_colab_link": true
    },
    "kernelspec": {
      "name": "python3",
      "display_name": "Python 3"
    },
    "language_info": {
      "name": "python"
    }
  },
  "cells": [
    {
      "cell_type": "markdown",
      "metadata": {
        "id": "view-in-github",
        "colab_type": "text"
      },
      "source": [
        "<a href=\"https://colab.research.google.com/github/Burbina200/Proyecto-IMT2118/blob/main/proyecto_geoespaciales.ipynb\" target=\"_parent\"><img src=\"https://colab.research.google.com/assets/colab-badge.svg\" alt=\"Open In Colab\"/></a>"
      ]
    },
    {
      "cell_type": "markdown",
      "source": [
        "# Proyecto Geo Espaciales"
      ],
      "metadata": {
        "id": "RCnGz9xZOvN-"
      }
    },
    {
      "cell_type": "markdown",
      "source": [
        "## Integrantes:\n",
        "- Camila Basulto\n",
        "- Benjamín Urbina"
      ],
      "metadata": {
        "id": "nMqypIvTR3sQ"
      }
    },
    {
      "cell_type": "markdown",
      "source": [
        "## Tema:"
      ],
      "metadata": {
        "id": "0gJ7v01LQ3lf"
      }
    },
    {
      "cell_type": "code",
      "source": [],
      "metadata": {
        "id": "NwuQcGWAQ1qK"
      },
      "execution_count": null,
      "outputs": []
    }
  ]
}